{
  "nbformat": 4,
  "nbformat_minor": 0,
  "metadata": {
    "colab": {
      "name": "Car Evaluation Prediction.ipynb",
      "provenance": [],
      "authorship_tag": "ABX9TyOToIcmloiKBfQ0YCt4BoWm",
      "include_colab_link": true
    },
    "kernelspec": {
      "name": "python3",
      "display_name": "Python 3"
    },
    "language_info": {
      "name": "python"
    }
  },
  "cells": [
    {
      "cell_type": "markdown",
      "metadata": {
        "id": "view-in-github",
        "colab_type": "text"
      },
      "source": [
        "<a href=\"https://colab.research.google.com/github/lucasswolff/Machine-Learning-Projects/blob/main/Car_Evaluation_Prediction.ipynb\" target=\"_parent\"><img src=\"https://colab.research.google.com/assets/colab-badge.svg\" alt=\"Open In Colab\"/></a>"
      ]
    },
    {
      "cell_type": "markdown",
      "source": [
        "This project was made by Lucas Wolff as a classification study case. The main goal is to create a model to predict the evaluation of a car beased on its features. \n",
        "The original dataset can be found in following link: https://code.datasciencedojo.com/datasciencedojo/datasets/tree/master/Car%20Evaluation"
      ],
      "metadata": {
        "id": "_42Ip3jabc_N"
      }
    },
    {
      "cell_type": "markdown",
      "source": [
        "The dataset has 7 columns and 1728  rows. The columns are the following:\n",
        "\n",
        "1) buying: Buying price of the car (v-high, high, med, low)\n",
        "\n",
        "2) maint: Price of the maintenance of car (v-high, high, med, low)\n",
        "\n",
        "3) doors: Number of doors (2, 3, 4, 5-more)\n",
        "\n",
        "4) persons: Capacity in terms of persons to carry (2, 4, more)\n",
        "\n",
        "5) lug_boot: The size of luggage boot (small, med, big)\n",
        "\n",
        "6) safety: Estimated safety of the car (low, med, high)\n",
        "\n",
        "7) class: Car acceptability (unacc: unacceptable, acc: acceptable, good: good, v-good: very good)"
      ],
      "metadata": {
        "id": "7mum8HSofP0y"
      }
    },
    {
      "cell_type": "markdown",
      "source": [
        "# Importing libraries and the data"
      ],
      "metadata": {
        "id": "_j7mHoTBmhOX"
      }
    },
    {
      "cell_type": "code",
      "source": [
        "import pandas as pd\n",
        "import numpy as np\n",
        "import matplotlib.pyplot as plt\n",
        "import seaborn as sns\n",
        "\n",
        "#cross validation\n",
        "from sklearn.model_selection import cross_val_predict, cross_val_score, KFold\n",
        "from sklearn.model_selection import cross_validate\n",
        "\n",
        "#ML algorithms\n",
        "from sklearn.linear_model import LogisticRegression\n",
        "from sklearn.neighbors import KNeighborsClassifier\n",
        "from sklearn.svm import SVC\n",
        "from sklearn.naive_bayes import GaussianNB\n",
        "from sklearn.ensemble import RandomForestClassifier\n",
        "\n",
        "#preprocessing\n",
        "from sklearn.preprocessing import OrdinalEncoder\n",
        "\n",
        "#metrics\n",
        "from sklearn.metrics import confusion_matrix, accuracy_score, precision_score"
      ],
      "metadata": {
        "id": "KbWIKl4geuT_"
      },
      "execution_count": 1,
      "outputs": []
    },
    {
      "cell_type": "code",
      "source": [
        "!mkdir -p '/content/drive/MyDrive/Colab Datasets/car-evaluation' #create directory in Google Drive\n",
        "!wget -P '/content/drive/MyDrive/Colab Datasets/car-evaluation' https://code.datasciencedojo.com/datasciencedojo/datasets/raw/master/Car%20Evaluation/car.data"
      ],
      "metadata": {
        "colab": {
          "base_uri": "https://localhost:8080/"
        },
        "id": "GUPN8QYabrfc",
        "outputId": "dd8311ae-136c-4a0a-d20e-cccf0f717b2a"
      },
      "execution_count": 2,
      "outputs": [
        {
          "output_type": "stream",
          "name": "stdout",
          "text": [
            "--2022-03-30 19:59:44--  https://code.datasciencedojo.com/datasciencedojo/datasets/raw/master/Car%20Evaluation/car.data\n",
            "Resolving code.datasciencedojo.com (code.datasciencedojo.com)... 167.99.111.153\n",
            "Connecting to code.datasciencedojo.com (code.datasciencedojo.com)|167.99.111.153|:443... connected.\n",
            "HTTP request sent, awaiting response... 200 OK\n",
            "Length: 51867 (51K) [text/plain]\n",
            "Saving to: ‘/content/drive/MyDrive/Colab Datasets/car-evaluation/car.data’\n",
            "\n",
            "car.data            100%[===================>]  50.65K  --.-KB/s    in 0.1s    \n",
            "\n",
            "2022-03-30 19:59:45 (355 KB/s) - ‘/content/drive/MyDrive/Colab Datasets/car-evaluation/car.data’ saved [51867/51867]\n",
            "\n"
          ]
        }
      ]
    },
    {
      "cell_type": "code",
      "source": [
        "df = pd.read_csv('/content/drive/MyDrive/Colab Datasets/car-evaluation/car.data')"
      ],
      "metadata": {
        "id": "cuJJuJMbkr6L"
      },
      "execution_count": 3,
      "outputs": []
    },
    {
      "cell_type": "code",
      "source": [
        "df.columns = ['buying', 'maint', 'doors', 'persons', 'lug_boot', 'safety', 'classification']"
      ],
      "metadata": {
        "id": "zzIAzmFleW7A"
      },
      "execution_count": 4,
      "outputs": []
    },
    {
      "cell_type": "code",
      "source": [
        "df.head()"
      ],
      "metadata": {
        "colab": {
          "base_uri": "https://localhost:8080/",
          "height": 206
        },
        "id": "6Em6pBa1eriZ",
        "outputId": "6d9f01d0-a1e6-4ac6-efb5-9b0711a66d23"
      },
      "execution_count": 5,
      "outputs": [
        {
          "output_type": "execute_result",
          "data": {
            "text/plain": [
              "  buying  maint doors persons lug_boot safety classification\n",
              "0  vhigh  vhigh     2       2    small    med          unacc\n",
              "1  vhigh  vhigh     2       2    small   high          unacc\n",
              "2  vhigh  vhigh     2       2      med    low          unacc\n",
              "3  vhigh  vhigh     2       2      med    med          unacc\n",
              "4  vhigh  vhigh     2       2      med   high          unacc"
            ],
            "text/html": [
              "\n",
              "  <div id=\"df-423a04ba-6c3d-48dd-acc6-3e280556c6e0\">\n",
              "    <div class=\"colab-df-container\">\n",
              "      <div>\n",
              "<style scoped>\n",
              "    .dataframe tbody tr th:only-of-type {\n",
              "        vertical-align: middle;\n",
              "    }\n",
              "\n",
              "    .dataframe tbody tr th {\n",
              "        vertical-align: top;\n",
              "    }\n",
              "\n",
              "    .dataframe thead th {\n",
              "        text-align: right;\n",
              "    }\n",
              "</style>\n",
              "<table border=\"1\" class=\"dataframe\">\n",
              "  <thead>\n",
              "    <tr style=\"text-align: right;\">\n",
              "      <th></th>\n",
              "      <th>buying</th>\n",
              "      <th>maint</th>\n",
              "      <th>doors</th>\n",
              "      <th>persons</th>\n",
              "      <th>lug_boot</th>\n",
              "      <th>safety</th>\n",
              "      <th>classification</th>\n",
              "    </tr>\n",
              "  </thead>\n",
              "  <tbody>\n",
              "    <tr>\n",
              "      <th>0</th>\n",
              "      <td>vhigh</td>\n",
              "      <td>vhigh</td>\n",
              "      <td>2</td>\n",
              "      <td>2</td>\n",
              "      <td>small</td>\n",
              "      <td>med</td>\n",
              "      <td>unacc</td>\n",
              "    </tr>\n",
              "    <tr>\n",
              "      <th>1</th>\n",
              "      <td>vhigh</td>\n",
              "      <td>vhigh</td>\n",
              "      <td>2</td>\n",
              "      <td>2</td>\n",
              "      <td>small</td>\n",
              "      <td>high</td>\n",
              "      <td>unacc</td>\n",
              "    </tr>\n",
              "    <tr>\n",
              "      <th>2</th>\n",
              "      <td>vhigh</td>\n",
              "      <td>vhigh</td>\n",
              "      <td>2</td>\n",
              "      <td>2</td>\n",
              "      <td>med</td>\n",
              "      <td>low</td>\n",
              "      <td>unacc</td>\n",
              "    </tr>\n",
              "    <tr>\n",
              "      <th>3</th>\n",
              "      <td>vhigh</td>\n",
              "      <td>vhigh</td>\n",
              "      <td>2</td>\n",
              "      <td>2</td>\n",
              "      <td>med</td>\n",
              "      <td>med</td>\n",
              "      <td>unacc</td>\n",
              "    </tr>\n",
              "    <tr>\n",
              "      <th>4</th>\n",
              "      <td>vhigh</td>\n",
              "      <td>vhigh</td>\n",
              "      <td>2</td>\n",
              "      <td>2</td>\n",
              "      <td>med</td>\n",
              "      <td>high</td>\n",
              "      <td>unacc</td>\n",
              "    </tr>\n",
              "  </tbody>\n",
              "</table>\n",
              "</div>\n",
              "      <button class=\"colab-df-convert\" onclick=\"convertToInteractive('df-423a04ba-6c3d-48dd-acc6-3e280556c6e0')\"\n",
              "              title=\"Convert this dataframe to an interactive table.\"\n",
              "              style=\"display:none;\">\n",
              "        \n",
              "  <svg xmlns=\"http://www.w3.org/2000/svg\" height=\"24px\"viewBox=\"0 0 24 24\"\n",
              "       width=\"24px\">\n",
              "    <path d=\"M0 0h24v24H0V0z\" fill=\"none\"/>\n",
              "    <path d=\"M18.56 5.44l.94 2.06.94-2.06 2.06-.94-2.06-.94-.94-2.06-.94 2.06-2.06.94zm-11 1L8.5 8.5l.94-2.06 2.06-.94-2.06-.94L8.5 2.5l-.94 2.06-2.06.94zm10 10l.94 2.06.94-2.06 2.06-.94-2.06-.94-.94-2.06-.94 2.06-2.06.94z\"/><path d=\"M17.41 7.96l-1.37-1.37c-.4-.4-.92-.59-1.43-.59-.52 0-1.04.2-1.43.59L10.3 9.45l-7.72 7.72c-.78.78-.78 2.05 0 2.83L4 21.41c.39.39.9.59 1.41.59.51 0 1.02-.2 1.41-.59l7.78-7.78 2.81-2.81c.8-.78.8-2.07 0-2.86zM5.41 20L4 18.59l7.72-7.72 1.47 1.35L5.41 20z\"/>\n",
              "  </svg>\n",
              "      </button>\n",
              "      \n",
              "  <style>\n",
              "    .colab-df-container {\n",
              "      display:flex;\n",
              "      flex-wrap:wrap;\n",
              "      gap: 12px;\n",
              "    }\n",
              "\n",
              "    .colab-df-convert {\n",
              "      background-color: #E8F0FE;\n",
              "      border: none;\n",
              "      border-radius: 50%;\n",
              "      cursor: pointer;\n",
              "      display: none;\n",
              "      fill: #1967D2;\n",
              "      height: 32px;\n",
              "      padding: 0 0 0 0;\n",
              "      width: 32px;\n",
              "    }\n",
              "\n",
              "    .colab-df-convert:hover {\n",
              "      background-color: #E2EBFA;\n",
              "      box-shadow: 0px 1px 2px rgba(60, 64, 67, 0.3), 0px 1px 3px 1px rgba(60, 64, 67, 0.15);\n",
              "      fill: #174EA6;\n",
              "    }\n",
              "\n",
              "    [theme=dark] .colab-df-convert {\n",
              "      background-color: #3B4455;\n",
              "      fill: #D2E3FC;\n",
              "    }\n",
              "\n",
              "    [theme=dark] .colab-df-convert:hover {\n",
              "      background-color: #434B5C;\n",
              "      box-shadow: 0px 1px 3px 1px rgba(0, 0, 0, 0.15);\n",
              "      filter: drop-shadow(0px 1px 2px rgba(0, 0, 0, 0.3));\n",
              "      fill: #FFFFFF;\n",
              "    }\n",
              "  </style>\n",
              "\n",
              "      <script>\n",
              "        const buttonEl =\n",
              "          document.querySelector('#df-423a04ba-6c3d-48dd-acc6-3e280556c6e0 button.colab-df-convert');\n",
              "        buttonEl.style.display =\n",
              "          google.colab.kernel.accessAllowed ? 'block' : 'none';\n",
              "\n",
              "        async function convertToInteractive(key) {\n",
              "          const element = document.querySelector('#df-423a04ba-6c3d-48dd-acc6-3e280556c6e0');\n",
              "          const dataTable =\n",
              "            await google.colab.kernel.invokeFunction('convertToInteractive',\n",
              "                                                     [key], {});\n",
              "          if (!dataTable) return;\n",
              "\n",
              "          const docLinkHtml = 'Like what you see? Visit the ' +\n",
              "            '<a target=\"_blank\" href=https://colab.research.google.com/notebooks/data_table.ipynb>data table notebook</a>'\n",
              "            + ' to learn more about interactive tables.';\n",
              "          element.innerHTML = '';\n",
              "          dataTable['output_type'] = 'display_data';\n",
              "          await google.colab.output.renderOutput(dataTable, element);\n",
              "          const docLink = document.createElement('div');\n",
              "          docLink.innerHTML = docLinkHtml;\n",
              "          element.appendChild(docLink);\n",
              "        }\n",
              "      </script>\n",
              "    </div>\n",
              "  </div>\n",
              "  "
            ]
          },
          "metadata": {},
          "execution_count": 5
        }
      ]
    },
    {
      "cell_type": "code",
      "source": [
        "df.info()"
      ],
      "metadata": {
        "colab": {
          "base_uri": "https://localhost:8080/"
        },
        "id": "FOMgVl-CvGak",
        "outputId": "5d3b29bd-ad4f-4498-ec73-b82591f992f2"
      },
      "execution_count": 6,
      "outputs": [
        {
          "output_type": "stream",
          "name": "stdout",
          "text": [
            "<class 'pandas.core.frame.DataFrame'>\n",
            "RangeIndex: 1727 entries, 0 to 1726\n",
            "Data columns (total 7 columns):\n",
            " #   Column          Non-Null Count  Dtype \n",
            "---  ------          --------------  ----- \n",
            " 0   buying          1727 non-null   object\n",
            " 1   maint           1727 non-null   object\n",
            " 2   doors           1727 non-null   object\n",
            " 3   persons         1727 non-null   object\n",
            " 4   lug_boot        1727 non-null   object\n",
            " 5   safety          1727 non-null   object\n",
            " 6   classification  1727 non-null   object\n",
            "dtypes: object(7)\n",
            "memory usage: 94.6+ KB\n"
          ]
        }
      ]
    },
    {
      "cell_type": "code",
      "source": [
        "df.isnull().sum().max()"
      ],
      "metadata": {
        "colab": {
          "base_uri": "https://localhost:8080/"
        },
        "id": "jtnlzz11wIde",
        "outputId": "8ccbad28-93b3-4143-fd42-e37f946bb8d9"
      },
      "execution_count": 7,
      "outputs": [
        {
          "output_type": "execute_result",
          "data": {
            "text/plain": [
              "0"
            ]
          },
          "metadata": {},
          "execution_count": 7
        }
      ]
    },
    {
      "cell_type": "markdown",
      "source": [
        "We can see the data type of all columns is a string. Even for the columns doors and persons, which has de values 5-more and more respectively.\n",
        "There is no missing values"
      ],
      "metadata": {
        "id": "G1mPCxFqwHBn"
      }
    },
    {
      "cell_type": "markdown",
      "source": [
        "# Exploratoy Data Analysis "
      ],
      "metadata": {
        "id": "whSWaBbfq6eO"
      }
    },
    {
      "cell_type": "markdown",
      "source": [
        "Let's take a look in the data"
      ],
      "metadata": {
        "id": "bpwWbJwXrkM5"
      }
    },
    {
      "cell_type": "markdown",
      "source": [
        "How many cars do you think is unacceptable? What about the good ones?"
      ],
      "metadata": {
        "id": "DcNWb3KGsAgR"
      }
    },
    {
      "cell_type": "code",
      "source": [
        "#altering the Pandas' graph style\n",
        "#pd.options.plotting.backend = 'plotly'"
      ],
      "metadata": {
        "id": "0CASFPW7t_x-"
      },
      "execution_count": 8,
      "outputs": []
    },
    {
      "cell_type": "code",
      "source": [
        "#Changing the sort order\n",
        "df['buying'] = pd.Categorical(df['buying'], ['low', 'med', 'high', 'vhigh'])\n",
        "df['maint'] = pd.Categorical(df['maint'], ['low', 'med', 'high','vhigh'])\n",
        "df['doors'] = pd.Categorical(df['doors'], ['2', '3', '4','5more'])\n",
        "df['persons'] = pd.Categorical(df['persons'], ['2', '4', 'more'])\n",
        "df['lug_boot'] = pd.Categorical(df['lug_boot'], ['small', 'med', 'big'])\n",
        "df['safety'] = pd.Categorical(df['safety'], ['low', 'med', 'high'])\n",
        "df['classification'] = pd.Categorical(df['classification'], ['unacc', 'acc', 'good', 'vgood'])"
      ],
      "metadata": {
        "id": "SYou2-Xb2t5N"
      },
      "execution_count": 9,
      "outputs": []
    },
    {
      "cell_type": "code",
      "source": [
        "fig = plt.figure(figsize=(10,5))\n",
        "df.classification.value_counts().plot(kind = 'bar', title ='Number of cars in each classification')"
      ],
      "metadata": {
        "colab": {
          "base_uri": "https://localhost:8080/",
          "height": 373
        },
        "id": "ZoNZ2yV8qtzo",
        "outputId": "6b21615b-20ed-42f3-d740-9dad0ca204e6"
      },
      "execution_count": 16,
      "outputs": [
        {
          "output_type": "execute_result",
          "data": {
            "text/plain": [
              "<matplotlib.axes._subplots.AxesSubplot at 0x7fc7bf2fe610>"
            ]
          },
          "metadata": {},
          "execution_count": 16
        },
        {
          "output_type": "display_data",
          "data": {
            "text/plain": [
              "<Figure size 720x360 with 1 Axes>"
            ],
            "image/png": "[encoded data removed]"
          },
          "metadata": {
            "needs_background": "light"
          }
        }
      ]
    },
    {
      "cell_type": "markdown",
      "source": [
        "It seems that we have a lot of pretty bad cars! \n",
        "Let's take a look in this classification compared with the price."
      ],
      "metadata": {
        "id": "BQtUpDQOuQGZ"
      }
    },
    {
      "cell_type": "code",
      "source": [
        "df_buy_class = df.groupby(['buying', 'classification']).count().reset_index()\n",
        "df_buy_class.rename(columns={'maint': 'number of cars'}, inplace=True)\n",
        "\n",
        "fig = plt.figure(figsize=(40,5))\n",
        "sns.catplot(x='classification', y='number of cars', hue='buying', kind=\"bar\", data = df_buy_class)\n",
        "plt.show()"
      ],
      "metadata": {
        "colab": {
          "base_uri": "https://localhost:8080/",
          "height": 386
        },
        "id": "88lTVXvXqt_i",
        "outputId": "332b596a-1365-4e25-fc41-652f7bd36237"
      },
      "execution_count": 17,
      "outputs": [
        {
          "output_type": "display_data",
          "data": {
            "text/plain": [
              "<Figure size 2880x360 with 0 Axes>"
            ]
          },
          "metadata": {}
        },
        {
          "output_type": "display_data",
          "data": {
            "text/plain": [
              "<Figure size 423.875x360 with 1 Axes>"
            ],
            "image/png": "[encoded data removed]"
          },
          "metadata": {
            "needs_background": "light"
          }
        }
      ]
    },
    {
      "cell_type": "markdown",
      "source": [
        "We can see that cars which good and very good classification have a low or medium price"
      ],
      "metadata": {
        "id": "YZkgtRZ_nex1"
      }
    },
    {
      "cell_type": "markdown",
      "source": [
        "Now lets see if the buyers consider a safe car acceptable, disregarding the other features"
      ],
      "metadata": {
        "id": "09IgqeMW3L3F"
      }
    },
    {
      "cell_type": "code",
      "source": [
        "df_safe_class = df.groupby(['safety', 'classification']).count().reset_index()\n",
        "df_safe_class.rename(columns={'maint': 'number of cars'}, inplace=True)\n",
        "\n",
        "fig = plt.figure(figsize=(40,5))\n",
        "sns.catplot(x='classification', y='number of cars', hue='safety', kind=\"bar\", data = df_safe_class, palette='rocket_r')\n",
        "plt.show()"
      ],
      "metadata": {
        "colab": {
          "base_uri": "https://localhost:8080/",
          "height": 386
        },
        "id": "1gTHaiEOquEy",
        "outputId": "d7537a55-fdc1-44db-a0a9-770a6a155787"
      },
      "execution_count": 18,
      "outputs": [
        {
          "output_type": "display_data",
          "data": {
            "text/plain": [
              "<Figure size 2880x360 with 0 Axes>"
            ]
          },
          "metadata": {}
        },
        {
          "output_type": "display_data",
          "data": {
            "text/plain": [
              "<Figure size 418.125x360 with 1 Axes>"
            ],
            "image/png": "[encoded data removed]"
          },
          "metadata": {
            "needs_background": "light"
          }
        }
      ]
    },
    {
      "cell_type": "markdown",
      "source": [
        "We can see that all cars that has low safety fits in the unacceptable category. That is a strong indicator of what our classification algorithm should do. On the other hand, being a safe car doesn't mean it's acceptable.\n"
      ],
      "metadata": {
        "id": "kly0fulL4Wz2"
      }
    },
    {
      "cell_type": "markdown",
      "source": [
        "To make it shorter, let's plot the other four variables in subplots"
      ],
      "metadata": {
        "id": "Zl2-_oU08baI"
      }
    },
    {
      "cell_type": "code",
      "source": [
        "fig, axes = plt.subplots(2,2, figsize = (16,8))\n",
        "\n",
        "#maintenance\n",
        "df_maint_class = df.groupby(['maint', 'classification']).count().reset_index()\n",
        "df_maint_class.rename(columns={'safety': 'number of cars'}, inplace=True)\n",
        "\n",
        "sns.barplot(ax=axes[0, 0], x='classification', y='number of cars', hue='maint',  data = df_maint_class, palette='rocket_r')\n",
        "\n",
        "\n",
        "#number of doors\n",
        "df_doors_class = df.groupby(['doors', 'classification']).count().reset_index()\n",
        "df_doors_class.rename(columns={'safety': 'number of cars'}, inplace=True)\n",
        "\n",
        "sns.barplot(ax=axes[0, 1], x='classification', y='number of cars', hue='doors',  data = df_doors_class, palette='dark:salmon_r')\n",
        "\n",
        "#Max number of persons inside\n",
        "df_person_class = df.groupby(['persons', 'classification']).count().reset_index()\n",
        "df_person_class.rename(columns={'safety': 'number of cars'}, inplace=True)\n",
        "\n",
        "sns.barplot(ax=axes[1, 0], x='classification', y='number of cars', hue='persons',  data = df_person_class, palette='mako_r')\n",
        "\n",
        "#Size of of luggage boot\n",
        "df_lug_class = df.groupby(['lug_boot', 'classification']).count().reset_index()\n",
        "df_lug_class.rename(columns={'safety': 'number of cars'}, inplace=True)\n",
        "\n",
        "sns.barplot(ax=axes[1, 1], x='classification', y='number of cars', hue='lug_boot',  data = df_lug_class, palette='viridis_r')\n",
        "\n",
        "plt.show()\n"
      ],
      "metadata": {
        "colab": {
          "base_uri": "https://localhost:8080/",
          "height": 497
        },
        "id": "RGjHXOLiquId",
        "outputId": "0f1fca7c-e4e5-48f4-d77d-f2c5517923e7"
      },
      "execution_count": 19,
      "outputs": [
        {
          "output_type": "display_data",
          "data": {
            "text/plain": [
              "<Figure size 1152x576 with 4 Axes>"
            ],
            "image/png": "[encoded data removed]"
          },
          "metadata": {
            "needs_background": "light"
          }
        }
      ]
    },
    {
      "cell_type": "markdown",
      "source": [
        "From the first graph, we can see that no cars with high maintenance is classified was good or very good. Looking at the second one, we may say that having less or more doors doesn't play a big role in the decision (the proportion it's similar).\n",
        "In the third graph, it's possible to see that the all cars that fit just 2 people is unacceptable, another trigger that our algorithm should follow.\n",
        "Looking at the last one, we see that there is no \"very good\" cars with small luggage boot.\n",
        "\n",
        "Also, if you know a little bit about cars you know that usually big cars (that fits more people) usually have bigger trunks. So we may have a multicollinearity with these two variables. \n",
        "\"Multicollinearity is not such a problem for nonlinear regression methods like trees, clustering, and nearest-neighbors\" (Source: Practical Statistics for Data Scientists, Peter Bruce, Andrew Bruce & Peter Gedeck)\n",
        "Therefore, as multicollinearity will affect only the logistic regression model, we will kept both variables.\n"
      ],
      "metadata": {
        "id": "1w4XzJUEAh_8"
      }
    },
    {
      "cell_type": "markdown",
      "source": [
        "# Data Preprocessing\n"
      ],
      "metadata": {
        "id": "WLuVu0xkpByU"
      }
    },
    {
      "cell_type": "code",
      "source": [
        "X = df.iloc[:,:-1]\n",
        "y = df.iloc[:,-1]"
      ],
      "metadata": {
        "id": "VXEkiT83qpGm"
      },
      "execution_count": 20,
      "outputs": []
    },
    {
      "cell_type": "markdown",
      "source": [
        "Transforming the categorical data into ordinal numbers. We could also tranform it into dummy variables. But as all variablers in orderable (e.g. small, med, high) the best approach is to use Ordinal Encoder"
      ],
      "metadata": {
        "id": "Lg95jGmm6OAb"
      }
    },
    {
      "cell_type": "code",
      "source": [
        "X = np.array(X)\n",
        "y = np.array(y)"
      ],
      "metadata": {
        "id": "DBGD3fSKWQHS"
      },
      "execution_count": 21,
      "outputs": []
    },
    {
      "cell_type": "code",
      "source": [
        "print(X)"
      ],
      "metadata": {
        "colab": {
          "base_uri": "https://localhost:8080/"
        },
        "id": "nY1xycChezsV",
        "outputId": "449f972e-e177-416f-e7ce-2f5d64cdd380"
      },
      "execution_count": 22,
      "outputs": [
        {
          "output_type": "stream",
          "name": "stdout",
          "text": [
            "[['vhigh' 'vhigh' '2' '2' 'small' 'med']\n",
            " ['vhigh' 'vhigh' '2' '2' 'small' 'high']\n",
            " ['vhigh' 'vhigh' '2' '2' 'med' 'low']\n",
            " ...\n",
            " ['low' 'low' '5more' 'more' 'big' 'low']\n",
            " ['low' 'low' '5more' 'more' 'big' 'med']\n",
            " ['low' 'low' '5more' 'more' 'big' 'high']]\n"
          ]
        }
      ]
    },
    {
      "cell_type": "code",
      "source": [
        "enc = OrdinalEncoder()\n",
        "X = enc.fit_transform(X)"
      ],
      "metadata": {
        "id": "PxIxmQ9Zeka-"
      },
      "execution_count": 23,
      "outputs": []
    },
    {
      "cell_type": "code",
      "source": [
        "print(X)"
      ],
      "metadata": {
        "colab": {
          "base_uri": "https://localhost:8080/"
        },
        "id": "NRc8RP3MeqTm",
        "outputId": "89af933d-4496-4a13-ad98-2e07c63ee26a"
      },
      "execution_count": 24,
      "outputs": [
        {
          "output_type": "stream",
          "name": "stdout",
          "text": [
            "[[3. 3. 0. 0. 2. 2.]\n",
            " [3. 3. 0. 0. 2. 0.]\n",
            " [3. 3. 0. 0. 1. 1.]\n",
            " ...\n",
            " [1. 1. 3. 2. 0. 1.]\n",
            " [1. 1. 3. 2. 0. 2.]\n",
            " [1. 1. 3. 2. 0. 0.]]\n"
          ]
        }
      ]
    },
    {
      "cell_type": "markdown",
      "source": [
        "# Prediction the evaluation\n",
        "\n",
        "\n"
      ],
      "metadata": {
        "id": "shl5u40h8yNS"
      }
    },
    {
      "cell_type": "markdown",
      "source": [
        "If we had numerical variables would be nice to feature scale the data. But all variables are transformed into ordinal. We don't need to scale it"
      ],
      "metadata": {
        "id": "KMTIxUA8Fj7d"
      }
    },
    {
      "cell_type": "markdown",
      "source": [
        "Before we dive into machine learning, let's take a look in the metrics we are going to use to evaluate a model "
      ],
      "metadata": {
        "id": "4c11uxwn7LsJ"
      }
    },
    {
      "cell_type": "markdown",
      "source": [
        "**Confusion Matrix**"
      ],
      "metadata": {
        "id": "zdPJUney7Xl8"
      }
    },
    {
      "cell_type": "markdown",
      "source": [
        "The confusion matrix  helps us to analyse the result. \n",
        "In the horizontal we have the predicted values and in the vertical we have the actual values. Here is a nice image to understand it better:\n",
        "\n",
        "\n",
        "![image.png](data:image/png;base64,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)"
      ],
      "metadata": {
        "id": "jhaOw4wdAHaU"
      }
    },
    {
      "cell_type": "markdown",
      "source": [
        "We can see that in the main diagonal we have the values that was correctly guessed. And the rest of the matrix was wrongly guesses "
      ],
      "metadata": {
        "id": "YE56ocWiBm70"
      }
    },
    {
      "cell_type": "markdown",
      "source": [
        "**Accuracy**"
      ],
      "metadata": {
        "id": "uLb9BFHi7dOK"
      }
    },
    {
      "cell_type": "markdown",
      "source": [
        "Accuaracy is the proportion of right guesses. It's a measure of total erros\n",
        "\n",
        "![image.png](data:image/png;base64,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)\n",
        "\n"
      ],
      "metadata": {
        "id": "dUsDVJDb7x5v"
      }
    },
    {
      "cell_type": "markdown",
      "source": [
        "**Precision**"
      ],
      "metadata": {
        "id": "Uj2yrTp18FE_"
      }
    },
    {
      "cell_type": "markdown",
      "source": [
        "Precision is the accuracy measure of predicted positive outcome. It's the ability to not label a negative outcome as positive. The nearst to one, the lesser false positives will be produced. \n",
        "\n",
        "![image.png](data:image/png;base64,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)  "
      ],
      "metadata": {
        "id": "eBT_JUMQ8Q8q"
      }
    },
    {
      "cell_type": "markdown",
      "source": [
        "You can either use all true positives and false positives and calculate a global precision or you can calculate a precision for each label and then take a simple or weighted average. In this case, we are going to use the weighted average to account for label imbalance"
      ],
      "metadata": {
        "id": "6xHCq-9BHhvE"
      }
    },
    {
      "cell_type": "markdown",
      "source": [
        "**Logistic Regression**"
      ],
      "metadata": {
        "id": "SNZ1aspl8-zg"
      }
    },
    {
      "cell_type": "code",
      "source": [
        "kf = KFold(n_splits = 10)\n",
        "classifier = LogisticRegression()\n",
        "y_pred = cross_val_predict(classifier, X, y, cv=kf)"
      ],
      "metadata": {
        "id": "e5Fkih7C803w"
      },
      "execution_count": 25,
      "outputs": []
    },
    {
      "cell_type": "code",
      "source": [
        "print('Confusion Matrix \\n')\n",
        "print(confusion_matrix(y, y_pred))\n",
        "\n",
        "accuracy = accuracy_score(y, y_pred)\n",
        "print('\\nAccuracy: {:.3f}'.format(accuracy))\n",
        "\n",
        "precision = precision_score(y, y_pred, average='weighted')\n",
        "print('\\nPrecision: {:.3f}'.format(precision))"
      ],
      "metadata": {
        "colab": {
          "base_uri": "https://localhost:8080/"
        },
        "id": "WpfMAh_w9l8w",
        "outputId": "eb041462-bb54-4239-8f31-c78ef88295d4"
      },
      "execution_count": 26,
      "outputs": [
        {
          "output_type": "stream",
          "name": "stdout",
          "text": [
            "Confusion Matrix \n",
            "\n",
            "[[  44    0  301   39]\n",
            " [  13    0   56    0]\n",
            " [ 128    0 1072    9]\n",
            " [  32    0   31    2]]\n",
            "\n",
            "Accuracy: 0.647\n",
            "\n",
            "Precision: 0.561\n"
          ]
        },
        {
          "output_type": "stream",
          "name": "stderr",
          "text": [
            "/usr/local/lib/python3.7/dist-packages/sklearn/metrics/_classification.py:1318: UndefinedMetricWarning: Precision is ill-defined and being set to 0.0 in labels with no predicted samples. Use `zero_division` parameter to control this behavior.\n",
            "  _warn_prf(average, modifier, msg_start, len(result))\n"
          ]
        }
      ]
    },
    {
      "cell_type": "markdown",
      "source": [
        "K-NN Model"
      ],
      "metadata": {
        "id": "PabVm4fkCvGv"
      }
    },
    {
      "cell_type": "code",
      "source": [
        "classifier = KNeighborsClassifier(n_neighbors=5, metric = 'minkowski',p = 2) #using Euclidian distance\n",
        "y_pred = cross_val_predict(classifier, X, y, cv=kf)\n",
        "\n",
        "print('Confusion Matrix \\n')\n",
        "print(confusion_matrix(y, y_pred))\n",
        "\n",
        "accuracy = accuracy_score(y, y_pred)\n",
        "print('\\nAccuracy: {:.3f}'.format(accuracy))\n",
        "\n",
        "precision = precision_score(y, y_pred, average='weighted')\n",
        "print('\\nPrecision: {:.3f}'.format(precision))"
      ],
      "metadata": {
        "colab": {
          "base_uri": "https://localhost:8080/"
        },
        "id": "v3x7M5fzCyIf",
        "outputId": "607f5e17-e8d6-4dce-e759-32483e12b3c5"
      },
      "execution_count": 27,
      "outputs": [
        {
          "output_type": "stream",
          "name": "stdout",
          "text": [
            "Confusion Matrix \n",
            "\n",
            "[[ 216   23  124   21]\n",
            " [  65    4    0    0]\n",
            " [ 109    0 1100    0]\n",
            " [  43    0    0   22]]\n",
            "\n",
            "Accuracy: 0.777\n",
            "\n",
            "Precision: 0.765\n"
          ]
        }
      ]
    },
    {
      "cell_type": "markdown",
      "source": [
        "**SVC**"
      ],
      "metadata": {
        "id": "s1PmpWUWEK7c"
      }
    },
    {
      "cell_type": "code",
      "source": [
        "classifier = SVC(kernel = 'linear')\n",
        "y_pred = cross_val_predict(classifier, X, y, cv=kf)\n",
        "\n",
        "print('Confusion Matrix \\n')\n",
        "print(confusion_matrix(y, y_pred))\n",
        "\n",
        "accuracy = accuracy_score(y, y_pred)\n",
        "print('\\nAccuracy: {:.3f}'.format(accuracy))\n",
        "\n",
        "precision = precision_score(y, y_pred, average='weighted')\n",
        "print('\\nPrecision: {:.3f}'.format(precision))"
      ],
      "metadata": {
        "colab": {
          "base_uri": "https://localhost:8080/"
        },
        "id": "ir3U3iQWGUr6",
        "outputId": "50becfba-0e74-4ea7-a274-8f74efa8a770"
      },
      "execution_count": 28,
      "outputs": [
        {
          "output_type": "stream",
          "name": "stdout",
          "text": [
            "Confusion Matrix \n",
            "\n",
            "[[  66    0  318    0]\n",
            " [   0    0   69    0]\n",
            " [  38    0 1171    0]\n",
            " [  24    0   41    0]]\n",
            "\n",
            "Accuracy: 0.716\n",
            "\n",
            "Precision: 0.627\n"
          ]
        },
        {
          "output_type": "stream",
          "name": "stderr",
          "text": [
            "/usr/local/lib/python3.7/dist-packages/sklearn/metrics/_classification.py:1318: UndefinedMetricWarning: Precision is ill-defined and being set to 0.0 in labels with no predicted samples. Use `zero_division` parameter to control this behavior.\n",
            "  _warn_prf(average, modifier, msg_start, len(result))\n"
          ]
        }
      ]
    },
    {
      "cell_type": "code",
      "source": [
        "classifier = SVC(kernel = 'rbf')\n",
        "y_pred = cross_val_predict(classifier, X, y, cv=kf)\n",
        "\n",
        "print('Confusion Matrix \\n')\n",
        "print(confusion_matrix(y, y_pred))\n",
        "\n",
        "accuracy = accuracy_score(y, y_pred)\n",
        "print('\\nAccuracy: {:.3f}'.format(accuracy))\n",
        "\n",
        "precision = precision_score(y, y_pred, average='weighted')\n",
        "print('\\nPrecision: {:.3f}'.format(precision))"
      ],
      "metadata": {
        "colab": {
          "base_uri": "https://localhost:8080/"
        },
        "id": "GNxz8IbGENRO",
        "outputId": "1c976a91-f58c-4b3c-8de4-24904a1e333f"
      },
      "execution_count": 29,
      "outputs": [
        {
          "output_type": "stream",
          "name": "stdout",
          "text": [
            "Confusion Matrix \n",
            "\n",
            "[[ 176   21  174   13]\n",
            " [  62    2    0    5]\n",
            " [ 104    0 1105    0]\n",
            " [  13    0    0   52]]\n",
            "\n",
            "Accuracy: 0.773\n",
            "\n",
            "Precision: 0.746\n"
          ]
        }
      ]
    },
    {
      "cell_type": "markdown",
      "source": [
        "**Naive Bayes**"
      ],
      "metadata": {
        "id": "N-tD93wbE5Nr"
      }
    },
    {
      "cell_type": "code",
      "source": [
        "classifier = GaussianNB()\n",
        "y_pred = cross_val_predict(classifier, X, y, cv=kf)\n",
        "\n",
        "print('Confusion Matrix \\n')\n",
        "print(confusion_matrix(y, y_pred))\n",
        "\n",
        "accuracy = accuracy_score(y, y_pred)\n",
        "print('\\nAccuracy: {:.3f}'.format(accuracy))\n",
        "\n",
        "precision = precision_score(y, y_pred, average='weighted')\n",
        "print('\\nPrecision: {:.3f}'.format(precision))"
      ],
      "metadata": {
        "colab": {
          "base_uri": "https://localhost:8080/"
        },
        "id": "6Y0uBt_tE7eO",
        "outputId": "6f8a7bf7-d635-4924-f32f-36a1b7d6ef56"
      },
      "execution_count": 30,
      "outputs": [
        {
          "output_type": "stream",
          "name": "stdout",
          "text": [
            "Confusion Matrix \n",
            "\n",
            "[[ 13   0 168 203]\n",
            " [ 18   0  21  30]\n",
            " [ 38   0 962 209]\n",
            " [  0   0   0  65]]\n",
            "\n",
            "Accuracy: 0.602\n",
            "\n",
            "Precision: 0.632\n"
          ]
        },
        {
          "output_type": "stream",
          "name": "stderr",
          "text": [
            "/usr/local/lib/python3.7/dist-packages/sklearn/metrics/_classification.py:1318: UndefinedMetricWarning: Precision is ill-defined and being set to 0.0 in labels with no predicted samples. Use `zero_division` parameter to control this behavior.\n",
            "  _warn_prf(average, modifier, msg_start, len(result))\n"
          ]
        }
      ]
    },
    {
      "cell_type": "markdown",
      "source": [
        "**Random Forest**"
      ],
      "metadata": {
        "id": "JxYcPU9rHAB8"
      }
    },
    {
      "cell_type": "code",
      "source": [
        "classifier = RandomForestClassifier(n_estimators = 100, criterion = 'entropy')\n",
        "output = cross_validate(classifier, X, y, cv=kf, scoring = 'accuracy', return_estimator =True)\n",
        "y_pred = cross_val_predict(classifier, X, y, cv=kf)\n",
        "\n",
        "print('Confusion Matrix \\n')\n",
        "print(confusion_matrix(y, y_pred))\n",
        "\n",
        "accuracy = accuracy_score(y, y_pred)\n",
        "print('\\nAccuracy: {:.3f}'.format(accuracy))\n",
        "\n",
        "precision = precision_score(y, y_pred, average='weighted')\n",
        "print('\\nPrecision: {:.3f}'.format(precision))"
      ],
      "metadata": {
        "colab": {
          "base_uri": "https://localhost:8080/"
        },
        "id": "SGKPpb0vGbJm",
        "outputId": "6f88459a-c5f5-4288-8c79-8d0b2d9d3d2c"
      },
      "execution_count": 32,
      "outputs": [
        {
          "output_type": "stream",
          "name": "stdout",
          "text": [
            "Confusion Matrix \n",
            "\n",
            "[[ 289   38   45   12]\n",
            " [  53   15    0    1]\n",
            " [  97    0 1112    0]\n",
            " [  13    0    0   52]]\n",
            "\n",
            "Accuracy: 0.850\n",
            "\n",
            "Precision: 0.856\n"
          ]
        }
      ]
    },
    {
      "cell_type": "markdown",
      "source": [
        "Based in the accuracy and precion score, the model which performed the best is Random Forest"
      ],
      "metadata": {
        "id": "S8bENF3pj91f"
      }
    },
    {
      "cell_type": "markdown",
      "source": [
        "Let's see the feature importance of each variable.\n",
        "The output is going to be the importance of the variables in each fold created to do the cross-validation."
      ],
      "metadata": {
        "id": "42sDzbo0NSoO"
      }
    },
    {
      "cell_type": "code",
      "source": [
        "feature_names = ['buying', 'maint', 'doors', 'persons', 'lug_boot', 'safety']\n",
        "\n",
        "for idx,estimator in enumerate(output['estimator']):\n",
        "    print(\"Features sorted by their score for estimator {}:\".format(idx))\n",
        "    feature_importances = pd.DataFrame(estimator.feature_importances_,\n",
        "                                       index = feature_names,\n",
        "                                        columns=['importance']).sort_values('importance', ascending=False)\n",
        "    print(feature_importances)"
      ],
      "metadata": {
        "colab": {
          "base_uri": "https://localhost:8080/"
        },
        "id": "722Wc4sETK4F",
        "outputId": "c57cbd10-720d-4b74-825b-9cf46fab6e4d"
      },
      "execution_count": 33,
      "outputs": [
        {
          "output_type": "stream",
          "name": "stdout",
          "text": [
            "Features sorted by their score for estimator 0:\n",
            "          importance\n",
            "safety      0.309711\n",
            "persons     0.244752\n",
            "buying      0.161187\n",
            "maint       0.139879\n",
            "lug_boot    0.086057\n",
            "doors       0.058414\n",
            "Features sorted by their score for estimator 1:\n",
            "          importance\n",
            "safety      0.293806\n",
            "persons     0.230127\n",
            "buying      0.181092\n",
            "maint       0.149147\n",
            "lug_boot    0.089412\n",
            "doors       0.056416\n",
            "Features sorted by their score for estimator 2:\n",
            "          importance\n",
            "safety      0.294970\n",
            "persons     0.234624\n",
            "buying      0.185647\n",
            "maint       0.141803\n",
            "lug_boot    0.086534\n",
            "doors       0.056422\n",
            "Features sorted by their score for estimator 3:\n",
            "          importance\n",
            "safety      0.295272\n",
            "persons     0.223310\n",
            "buying      0.178443\n",
            "maint       0.163150\n",
            "lug_boot    0.085122\n",
            "doors       0.054703\n",
            "Features sorted by their score for estimator 4:\n",
            "          importance\n",
            "safety      0.288962\n",
            "persons     0.218932\n",
            "maint       0.173864\n",
            "buying      0.168428\n",
            "lug_boot    0.092543\n",
            "doors       0.057271\n",
            "Features sorted by their score for estimator 5:\n",
            "          importance\n",
            "safety      0.283344\n",
            "persons     0.226627\n",
            "buying      0.191370\n",
            "maint       0.156543\n",
            "lug_boot    0.088618\n",
            "doors       0.053498\n",
            "Features sorted by their score for estimator 6:\n",
            "          importance\n",
            "safety      0.268247\n",
            "persons     0.225667\n",
            "buying      0.194208\n",
            "maint       0.162623\n",
            "lug_boot    0.095554\n",
            "doors       0.053700\n",
            "Features sorted by their score for estimator 7:\n",
            "          importance\n",
            "safety      0.282806\n",
            "persons     0.231464\n",
            "buying      0.201528\n",
            "maint       0.143667\n",
            "lug_boot    0.085848\n",
            "doors       0.054687\n",
            "Features sorted by their score for estimator 8:\n",
            "          importance\n",
            "safety      0.276035\n",
            "persons     0.223223\n",
            "buying      0.187261\n",
            "maint       0.170842\n",
            "lug_boot    0.089666\n",
            "doors       0.052974\n",
            "Features sorted by their score for estimator 9:\n",
            "          importance\n",
            "safety      0.281487\n",
            "persons     0.241945\n",
            "buying      0.181791\n",
            "maint       0.156060\n",
            "lug_boot    0.082455\n",
            "doors       0.056261\n"
          ]
        }
      ]
    },
    {
      "cell_type": "markdown",
      "source": [
        "As wee saw, the importance ranking was the same for each fold. \n",
        "The most important variable is safety, followed by maximum number of people inside and price. \n",
        "The maintance cost and is also important. Almost so important as price. \n",
        "The size of the lugging boot and the number os doors are not so important."
      ],
      "metadata": {
        "id": "FScHdwZyhOnG"
      }
    },
    {
      "cell_type": "markdown",
      "source": [
        "Remember the conclusions we took based on the graphs? We can confirm it looking at the ranking. Which are:\n",
        "Cars with low safety are unacceptable; cars with high prices are not considered good or very good; cars that fit just 2 people is unacceptable and that having less or more doors doesn't play a big role in the decision"
      ],
      "metadata": {
        "id": "_w8q4-7Pmlv5"
      }
    },
    {
      "cell_type": "markdown",
      "source": [
        "# Comparing the charts\n",
        "\n",
        "\n",
        "\n",
        "\n",
        "\n"
      ],
      "metadata": {
        "id": "HhKZVZFkHTeI"
      }
    },
    {
      "cell_type": "markdown",
      "source": [
        "Now let's compare the predicted data with the real data using the same charts we saw before"
      ],
      "metadata": {
        "id": "Y7eKsPnUJ0Lr"
      }
    },
    {
      "cell_type": "code",
      "source": [
        "#transforming X back to it's original format\n",
        "X = enc.inverse_transform(X)"
      ],
      "metadata": {
        "id": "B6E4tSq2KIiy"
      },
      "execution_count": 34,
      "outputs": []
    },
    {
      "cell_type": "code",
      "source": [
        "X_df = pd.DataFrame(X)\n",
        "y_df = pd.DataFrame(y_pred)"
      ],
      "metadata": {
        "id": "io_9o0QnJzwL"
      },
      "execution_count": 35,
      "outputs": []
    },
    {
      "cell_type": "code",
      "source": [
        "pred_df = pd.concat([X_df, y_df], axis=1)\n",
        "pred_df.columns = ['buying', 'maint', 'doors', 'persons', 'lug_boot', 'safety', 'classification']"
      ],
      "metadata": {
        "id": "icPufhw1MU85"
      },
      "execution_count": 36,
      "outputs": []
    },
    {
      "cell_type": "code",
      "source": [
        "pred_df.head()"
      ],
      "metadata": {
        "colab": {
          "base_uri": "https://localhost:8080/",
          "height": 206
        },
        "id": "uv-hkQMqNH3h",
        "outputId": "3f219095-1c65-4f03-df1d-106f1d92991d"
      },
      "execution_count": 37,
      "outputs": [
        {
          "output_type": "execute_result",
          "data": {
            "text/plain": [
              "  buying  maint doors persons lug_boot safety classification\n",
              "0  vhigh  vhigh     2       2    small    med          unacc\n",
              "1  vhigh  vhigh     2       2    small   high          unacc\n",
              "2  vhigh  vhigh     2       2      med    low          unacc\n",
              "3  vhigh  vhigh     2       2      med    med          unacc\n",
              "4  vhigh  vhigh     2       2      med   high          unacc"
            ],
            "text/html": [
              "\n",
              "  <div id=\"df-daf39a6e-01b2-4542-b55b-791eed0ecb05\">\n",
              "    <div class=\"colab-df-container\">\n",
              "      <div>\n",
              "<style scoped>\n",
              "    .dataframe tbody tr th:only-of-type {\n",
              "        vertical-align: middle;\n",
              "    }\n",
              "\n",
              "    .dataframe tbody tr th {\n",
              "        vertical-align: top;\n",
              "    }\n",
              "\n",
              "    .dataframe thead th {\n",
              "        text-align: right;\n",
              "    }\n",
              "</style>\n",
              "<table border=\"1\" class=\"dataframe\">\n",
              "  <thead>\n",
              "    <tr style=\"text-align: right;\">\n",
              "      <th></th>\n",
              "      <th>buying</th>\n",
              "      <th>maint</th>\n",
              "      <th>doors</th>\n",
              "      <th>persons</th>\n",
              "      <th>lug_boot</th>\n",
              "      <th>safety</th>\n",
              "      <th>classification</th>\n",
              "    </tr>\n",
              "  </thead>\n",
              "  <tbody>\n",
              "    <tr>\n",
              "      <th>0</th>\n",
              "      <td>vhigh</td>\n",
              "      <td>vhigh</td>\n",
              "      <td>2</td>\n",
              "      <td>2</td>\n",
              "      <td>small</td>\n",
              "      <td>med</td>\n",
              "      <td>unacc</td>\n",
              "    </tr>\n",
              "    <tr>\n",
              "      <th>1</th>\n",
              "      <td>vhigh</td>\n",
              "      <td>vhigh</td>\n",
              "      <td>2</td>\n",
              "      <td>2</td>\n",
              "      <td>small</td>\n",
              "      <td>high</td>\n",
              "      <td>unacc</td>\n",
              "    </tr>\n",
              "    <tr>\n",
              "      <th>2</th>\n",
              "      <td>vhigh</td>\n",
              "      <td>vhigh</td>\n",
              "      <td>2</td>\n",
              "      <td>2</td>\n",
              "      <td>med</td>\n",
              "      <td>low</td>\n",
              "      <td>unacc</td>\n",
              "    </tr>\n",
              "    <tr>\n",
              "      <th>3</th>\n",
              "      <td>vhigh</td>\n",
              "      <td>vhigh</td>\n",
              "      <td>2</td>\n",
              "      <td>2</td>\n",
              "      <td>med</td>\n",
              "      <td>med</td>\n",
              "      <td>unacc</td>\n",
              "    </tr>\n",
              "    <tr>\n",
              "      <th>4</th>\n",
              "      <td>vhigh</td>\n",
              "      <td>vhigh</td>\n",
              "      <td>2</td>\n",
              "      <td>2</td>\n",
              "      <td>med</td>\n",
              "      <td>high</td>\n",
              "      <td>unacc</td>\n",
              "    </tr>\n",
              "  </tbody>\n",
              "</table>\n",
              "</div>\n",
              "      <button class=\"colab-df-convert\" onclick=\"convertToInteractive('df-daf39a6e-01b2-4542-b55b-791eed0ecb05')\"\n",
              "              title=\"Convert this dataframe to an interactive table.\"\n",
              "              style=\"display:none;\">\n",
              "        \n",
              "  <svg xmlns=\"http://www.w3.org/2000/svg\" height=\"24px\"viewBox=\"0 0 24 24\"\n",
              "       width=\"24px\">\n",
              "    <path d=\"M0 0h24v24H0V0z\" fill=\"none\"/>\n",
              "    <path d=\"M18.56 5.44l.94 2.06.94-2.06 2.06-.94-2.06-.94-.94-2.06-.94 2.06-2.06.94zm-11 1L8.5 8.5l.94-2.06 2.06-.94-2.06-.94L8.5 2.5l-.94 2.06-2.06.94zm10 10l.94 2.06.94-2.06 2.06-.94-2.06-.94-.94-2.06-.94 2.06-2.06.94z\"/><path d=\"M17.41 7.96l-1.37-1.37c-.4-.4-.92-.59-1.43-.59-.52 0-1.04.2-1.43.59L10.3 9.45l-7.72 7.72c-.78.78-.78 2.05 0 2.83L4 21.41c.39.39.9.59 1.41.59.51 0 1.02-.2 1.41-.59l7.78-7.78 2.81-2.81c.8-.78.8-2.07 0-2.86zM5.41 20L4 18.59l7.72-7.72 1.47 1.35L5.41 20z\"/>\n",
              "  </svg>\n",
              "      </button>\n",
              "      \n",
              "  <style>\n",
              "    .colab-df-container {\n",
              "      display:flex;\n",
              "      flex-wrap:wrap;\n",
              "      gap: 12px;\n",
              "    }\n",
              "\n",
              "    .colab-df-convert {\n",
              "      background-color: #E8F0FE;\n",
              "      border: none;\n",
              "      border-radius: 50%;\n",
              "      cursor: pointer;\n",
              "      display: none;\n",
              "      fill: #1967D2;\n",
              "      height: 32px;\n",
              "      padding: 0 0 0 0;\n",
              "      width: 32px;\n",
              "    }\n",
              "\n",
              "    .colab-df-convert:hover {\n",
              "      background-color: #E2EBFA;\n",
              "      box-shadow: 0px 1px 2px rgba(60, 64, 67, 0.3), 0px 1px 3px 1px rgba(60, 64, 67, 0.15);\n",
              "      fill: #174EA6;\n",
              "    }\n",
              "\n",
              "    [theme=dark] .colab-df-convert {\n",
              "      background-color: #3B4455;\n",
              "      fill: #D2E3FC;\n",
              "    }\n",
              "\n",
              "    [theme=dark] .colab-df-convert:hover {\n",
              "      background-color: #434B5C;\n",
              "      box-shadow: 0px 1px 3px 1px rgba(0, 0, 0, 0.15);\n",
              "      filter: drop-shadow(0px 1px 2px rgba(0, 0, 0, 0.3));\n",
              "      fill: #FFFFFF;\n",
              "    }\n",
              "  </style>\n",
              "\n",
              "      <script>\n",
              "        const buttonEl =\n",
              "          document.querySelector('#df-daf39a6e-01b2-4542-b55b-791eed0ecb05 button.colab-df-convert');\n",
              "        buttonEl.style.display =\n",
              "          google.colab.kernel.accessAllowed ? 'block' : 'none';\n",
              "\n",
              "        async function convertToInteractive(key) {\n",
              "          const element = document.querySelector('#df-daf39a6e-01b2-4542-b55b-791eed0ecb05');\n",
              "          const dataTable =\n",
              "            await google.colab.kernel.invokeFunction('convertToInteractive',\n",
              "                                                     [key], {});\n",
              "          if (!dataTable) return;\n",
              "\n",
              "          const docLinkHtml = 'Like what you see? Visit the ' +\n",
              "            '<a target=\"_blank\" href=https://colab.research.google.com/notebooks/data_table.ipynb>data table notebook</a>'\n",
              "            + ' to learn more about interactive tables.';\n",
              "          element.innerHTML = '';\n",
              "          dataTable['output_type'] = 'display_data';\n",
              "          await google.colab.output.renderOutput(dataTable, element);\n",
              "          const docLink = document.createElement('div');\n",
              "          docLink.innerHTML = docLinkHtml;\n",
              "          element.appendChild(docLink);\n",
              "        }\n",
              "      </script>\n",
              "    </div>\n",
              "  </div>\n",
              "  "
            ]
          },
          "metadata": {},
          "execution_count": 37
        }
      ]
    },
    {
      "cell_type": "code",
      "source": [
        "#Changing the sort order\n",
        "pred_df['buying'] = pd.Categorical(pred_df['buying'], ['low', 'med', 'high', 'vhigh'])\n",
        "pred_df['maint'] = pd.Categorical(pred_df['maint'], ['low', 'med', 'high','vhigh'])\n",
        "pred_df['doors'] = pd.Categorical(pred_df['doors'], ['2', '3', '4','5more'])\n",
        "pred_df['persons'] = pd.Categorical(pred_df['persons'], ['2', '4', 'more'])\n",
        "pred_df['lug_boot'] = pd.Categorical(pred_df['lug_boot'], ['small', 'med', 'big'])\n",
        "pred_df['safety'] = pd.Categorical(pred_df['safety'], ['low', 'med', 'high'])\n",
        "pred_df['classification'] = pd.Categorical(pred_df['classification'], ['unacc', 'acc', 'good', 'vgood'])"
      ],
      "metadata": {
        "id": "cqLZ-762OAcO"
      },
      "execution_count": 38,
      "outputs": []
    },
    {
      "cell_type": "code",
      "source": [
        "fig, axes = plt.subplots(5,2, figsize = (20,40))\n",
        "\n",
        "#total number\n",
        "df_class = df.groupby(['maint', 'classification']).count().reset_index()\n",
        "df_class.rename(columns={'safety': 'number of cars'}, inplace=True)\n",
        "sns.barplot(ax=axes[0, 0], x='classification', y='number of cars',  data = df_class)\n",
        "\n",
        "df_class_pred = pred_df.groupby(['maint', 'classification']).count().reset_index()\n",
        "df_class_pred.rename(columns={'safety': 'number of cars'}, inplace=True)\n",
        "sns.barplot(ax=axes[0, 1], x='classification', y='number of cars',  data = df_class_pred)\n",
        "\n",
        "#buying\n",
        "df_buy_class = df.groupby(['buying', 'classification']).count().reset_index()\n",
        "df_buy_class.rename(columns={'maint': 'number of cars'}, inplace=True)\n",
        "sns.barplot(ax=axes[1, 0], x='classification', y='number of cars', hue='buying', data = df_buy_class)\n",
        "\n",
        "df_buy_class_pred = pred_df.groupby(['buying', 'classification']).count().reset_index()\n",
        "df_buy_class_pred.rename(columns={'maint': 'number of cars'}, inplace=True)\n",
        "sns.barplot(ax=axes[1, 1], x='classification', y='number of cars', hue='buying', data = df_buy_class_pred)\n",
        "\n",
        "#number of doors\n",
        "df_doors_class = df.groupby(['doors', 'classification']).count().reset_index()\n",
        "df_doors_class.rename(columns={'safety': 'number of cars'}, inplace=True)\n",
        "sns.barplot(ax=axes[2, 0], x='classification', y='number of cars', hue='doors',  data = df_doors_class, palette='dark:salmon_r')\n",
        "\n",
        "df_doors_class_pred = pred_df.groupby(['doors', 'classification']).count().reset_index()\n",
        "df_doors_class_pred.rename(columns={'safety': 'number of cars'}, inplace=True)\n",
        "sns.barplot(ax=axes[2, 1], x='classification', y='number of cars', hue='doors',  data = df_doors_class_pred, palette='dark:salmon_r')\n",
        "\n",
        "#Max number of persons inside\n",
        "df_person_class = df.groupby(['persons', 'classification']).count().reset_index()\n",
        "df_person_class.rename(columns={'safety': 'number of cars'}, inplace=True)\n",
        "sns.barplot(ax=axes[3, 0], x='classification', y='number of cars', hue='persons',  data = df_person_class, palette='mako_r')\n",
        "\n",
        "df_person_class_pred = pred_df.groupby(['persons', 'classification']).count().reset_index()\n",
        "df_person_class_pred.rename(columns={'safety': 'number of cars'}, inplace=True)\n",
        "sns.barplot(ax=axes[3, 1], x='classification', y='number of cars', hue='persons',  data = df_person_class_pred, palette='mako_r')\n",
        "\n",
        "\n",
        "#Size of of luggage boot\n",
        "df_lug_class = df.groupby(['lug_boot', 'classification']).count().reset_index()\n",
        "df_lug_class.rename(columns={'safety': 'number of cars'}, inplace=True)\n",
        "sns.barplot(ax=axes[4, 0], x='classification', y='number of cars', hue='lug_boot',  data = df_lug_class, palette='viridis_r')\n",
        "\n",
        "df_lug_class_pred = pred_df.groupby(['lug_boot', 'classification']).count().reset_index()\n",
        "df_lug_class_pred.rename(columns={'safety': 'number of cars'}, inplace=True)\n",
        "sns.barplot(ax=axes[4, 1], x='classification', y='number of cars', hue='lug_boot',  data = df_lug_class_pred, palette='viridis_r')\n"
      ],
      "metadata": {
        "colab": {
          "base_uri": "https://localhost:8080/",
          "height": 1000
        },
        "id": "GUzVTdz5OGGZ",
        "outputId": "86657ffe-ce03-4cfe-a4a8-ffdd3bf56573"
      },
      "execution_count": 39,
      "outputs": [
        {
          "output_type": "execute_result",
          "data": {
            "text/plain": [
              "<matplotlib.axes._subplots.AxesSubplot at 0x7fc7bca58dd0>"
            ]
          },
          "metadata": {},
          "execution_count": 39
        },
        {
          "output_type": "display_data",
          "data": {
            "text/plain": [
              "<Figure size 1440x2880 with 10 Axes>"
            ],
            "image/png": "[encoded data removed]"
          },
          "metadata": {
            "needs_background": "light"
          }
        }
      ]
    },
    {
      "cell_type": "markdown",
      "source": [
        "In the left side we have the real data and in the right we can see the predicted data.\n",
        "From the second is posible to notice that some car was misclassified as good. Also there are some difference between the two dataframes.\n",
        "In the other graphs the difference subtle.\n",
        "Therefore, we can conclude that the model was effective in classifying the cars. \n",
        "Of course, the model could still be optimized"
      ],
      "metadata": {
        "id": "JKq4H3Lt5mfM"
      }
    }
  ]
}